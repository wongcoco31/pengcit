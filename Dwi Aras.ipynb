{
 "cells": [
  {
   "cell_type": "code",
   "execution_count": 1,
   "id": "2bb91e91",
   "metadata": {},
   "outputs": [],
   "source": [
    "import cv2 as cv\n",
    "import numpy as np\n",
    "from matplotlib import pyplot as plt"
   ]
  },
  {
   "cell_type": "code",
   "execution_count": 2,
   "id": "a926e27d",
   "metadata": {},
   "outputs": [],
   "source": [
    "daun = cv.imread('daun.jpeg', 0)\n",
    "tinggi, lebar = daun.shape\n"
   ]
  },
  {
   "cell_type": "code",
   "execution_count": 3,
   "id": "daa16f56",
   "metadata": {},
   "outputs": [],
   "source": [
    "cv.imshow(\"Citra Asli\", daun)\n",
    "cv.waitKey(0)\n",
    "cv.destroyAllWindows()"
   ]
  },
  {
   "cell_type": "code",
   "execution_count": 6,
   "id": "6a4db7dc",
   "metadata": {},
   "outputs": [],
   "source": [
    "#PENGEMBANGAN DWI ARAS DENGAN PERKIRAAN NILAI AMBANG\n",
    "\n",
    "nilai_ambang = 128\n",
    "daun_hasil = daun.copy()\n",
    "for x in range (tinggi):\n",
    "    for y in range (lebar):\n",
    "        if daun[x,y] < nilai_ambang:\n",
    "            daun_hasil[x,y] = 0\n",
    "        else:\n",
    "            daun_hasil[x,y] = 225    "
   ]
  },
  {
   "cell_type": "code",
   "execution_count": 7,
   "id": "1d598fd9",
   "metadata": {},
   "outputs": [],
   "source": [
    "cv.imshow(\"Aras Daun\", daun_hasil)\n",
    "cv.waitKey(0)\n",
    "cv.destroyAllWindows()"
   ]
  },
  {
   "cell_type": "code",
   "execution_count": 8,
   "id": "33efbff8",
   "metadata": {},
   "outputs": [],
   "source": [
    "#MENENTUKAN NILAI AMBANG SUATU CITRA\n",
    "\n",
    "def titeratif(image):\n",
    "    tinggi, lebar = image.shape\n",
    "    t0 = 127\n",
    "    while(True):\n",
    "        rata_kiri = 0;\n",
    "        rata_kanan = 0;\n",
    "        jum_kiri = 0;\n",
    "        jum_kanan = 0;\n",
    "        for x in range(tinggi):\n",
    "            for y in range(lebar):\n",
    "                if (image[x,y] <= 127):\n",
    "                    rata_kiri = rata_kiri + image[x,y]\n",
    "                    jum_kiri = jum_kiri + 1\n",
    "                else:\n",
    "                    rata_kanan = rata_kanan + image[x,y]\n",
    "                    jum_kanan = jum_kanan + 1\n",
    "        rata_kiri = rata_kiri / jum_kiri\n",
    "        rata_kanan = rata_kanan / jum_kanan\n",
    "        t1 = (rata_kiri + rata_kanan)/2\n",
    "        if((t0 - t1) < 1):\n",
    "            break\n",
    "        t0 = t1\n",
    "    return round(t1)"
   ]
  },
  {
   "cell_type": "code",
   "execution_count": 9,
   "id": "0e8ebb9d",
   "metadata": {},
   "outputs": [
    {
     "data": {
      "text/plain": [
       "131"
      ]
     },
     "execution_count": 9,
     "metadata": {},
     "output_type": "execute_result"
    }
   ],
   "source": [
    "titeratif(daun)"
   ]
  },
  {
   "cell_type": "code",
   "execution_count": 10,
   "id": "9863158e",
   "metadata": {},
   "outputs": [],
   "source": [
    "bentuk = cv.imread('arasjamak.jpeg',0)\n",
    "tinggi, lebar = bentuk.shape"
   ]
  },
  {
   "cell_type": "code",
   "execution_count": 11,
   "id": "beebcc08",
   "metadata": {},
   "outputs": [],
   "source": [
    "def arasjamak(image, t1, t2):\n",
    "    res = image\n",
    "    m,n = image.shape\n",
    "    for x in range(m):\n",
    "        for y in range(n):\n",
    "            if (image[x,y] <= t1) or (image[x,y] >= t2):\n",
    "                res[x,y] = 0\n",
    "            else:\n",
    "                res[x,y] = 225\n",
    "    return res"
   ]
  },
  {
   "cell_type": "code",
   "execution_count": 13,
   "id": "ea40231d",
   "metadata": {},
   "outputs": [],
   "source": [
    "bentukArasJamak = arasjamak(bentuk, 185, 200)"
   ]
  },
  {
   "cell_type": "code",
   "execution_count": 15,
   "id": "a82ff12b",
   "metadata": {},
   "outputs": [],
   "source": [
    "cv.imshow('Gambar Aras Jamak', bentukArasJamak)\n",
    "cv.waitKey(0)\n",
    "cv.destroyAllWindows()"
   ]
  },
  {
   "cell_type": "code",
   "execution_count": null,
   "id": "b5395fe6",
   "metadata": {},
   "outputs": [],
   "source": []
  }
 ],
 "metadata": {
  "kernelspec": {
   "display_name": "Python 3 (ipykernel)",
   "language": "python",
   "name": "python3"
  },
  "language_info": {
   "codemirror_mode": {
    "name": "ipython",
    "version": 3
   },
   "file_extension": ".py",
   "mimetype": "text/x-python",
   "name": "python",
   "nbconvert_exporter": "python",
   "pygments_lexer": "ipython3",
   "version": "3.9.13"
  }
 },
 "nbformat": 4,
 "nbformat_minor": 5
}
